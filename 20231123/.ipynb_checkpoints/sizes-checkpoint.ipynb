{
 "cells": [
  {
   "cell_type": "code",
   "execution_count": 19,
   "id": "95da5006-3aae-4cff-b741-ab191bd2986d",
   "metadata": {},
   "outputs": [
    {
     "data": {
      "text/plain": [
       "((10.16, 7.62), (5.08, 2.54), (4.572, 3.048), (3.048, 2.54))"
      ]
     },
     "execution_count": 19,
     "metadata": {},
     "output_type": "execute_result"
    }
   ],
   "source": [
    "import math\n",
    "def incher(stringi):\n",
    "    width = float(stringi[0:2])*0.254\n",
    "    hight = float(stringi[2:4])*0.254\n",
    "    return width, hight\n",
    "\n",
    "\n",
    "incher(\"4030\"), incher(\"2010\"), incher(\"1812\"), incher(\"1210\")"
   ]
  }
 ],
 "metadata": {
  "kernelspec": {
   "display_name": "Python 3 (ipykernel)",
   "language": "python",
   "name": "python3"
  },
  "language_info": {
   "codemirror_mode": {
    "name": "ipython",
    "version": 3
   },
   "file_extension": ".py",
   "mimetype": "text/x-python",
   "name": "python",
   "nbconvert_exporter": "python",
   "pygments_lexer": "ipython3",
   "version": "3.10.11"
  }
 },
 "nbformat": 4,
 "nbformat_minor": 5
}
