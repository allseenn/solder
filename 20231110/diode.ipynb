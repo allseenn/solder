{
 "cells": [
  {
   "cell_type": "markdown",
   "id": "7aba9d40-e4ed-4051-b657-046e688fcd44",
   "metadata": {},
   "source": [
    "**Дано**:\n",
    "- $VD1=2V$\n",
    "- $VD2=2V$\n",
    "- $VD3=3.1V$\n",
    "- $VD4=2.2V$\n",
    "- $VD5=3.35V$\n",
    "- $U_{GB}=12V$\n",
    "- $I_{VD}=0.03A$\n",
    "\n",
    "**Найти:**\n",
    "- $R1=\\Omega$\n",
    "- $R2=\\Omega$\n",
    "- $R3=\\Omega$\n",
    "- $R4=\\Omega$\n",
    "- $R5=\\Omega$\n",
    "- $P1=W$\n",
    "- $P2=W$\n",
    "- $P3=W$\n",
    "- $P4=W$\n",
    "- $P5=W$"
   ]
  },
  {
   "cell_type": "code",
   "execution_count": 5,
   "id": "b7dd7fa0-2e61-406d-be75-c4827c5a0b63",
   "metadata": {},
   "outputs": [
    {
     "data": {
      "text/plain": [
       "(2.0, 2.0, 3.1, 2.2, 3.35, 0.03)"
      ]
     },
     "execution_count": 5,
     "metadata": {},
     "output_type": "execute_result"
    }
   ],
   "source": [
    "import math\n",
    "U_VD1=(1.9+2.1)/2\n",
    "U_VD2=(1.8+2.2)/2\n",
    "U_VD3=(3+3.2)/2\n",
    "U_VD4=(2+2.4)/2\n",
    "U_VD5=(3.2+3.5)/2\n",
    "U_GB=12\n",
    "I_VD=30/1000\n",
    "U_VD1,U_VD2,U_VD3,U_VD4,U_VD5,I_VD"
   ]
  },
  {
   "cell_type": "markdown",
   "id": "e4f0f1fc-e25f-43e9-86b8-1f862a667277",
   "metadata": {},
   "source": [
    "Найдем разницу напряжения для диодов и общего питания:\n",
    "- $\\Delta U_{R1}=U_{GB}-U_{VD1}=12-2=10V$\n",
    "- $\\Delta U_{R2}=U_{GB}-U_{VD2}=12-2=10V$\n",
    "- $\\Delta U_{R3}=U_{GB}-U_{VD3}=12-3.1=8.9V$\n",
    "- $\\Delta U_{R4}=U_{GB}-U_{VD4}=12-2.2=9.8V$\n",
    "- $\\Delta U_{R5}=U_{GB}-U_{VD5}=12-3.35=8.65V$"
   ]
  },
  {
   "cell_type": "code",
   "execution_count": 6,
   "id": "d33f62fb-a8b3-4040-b952-ef58149eee22",
   "metadata": {},
   "outputs": [
    {
     "data": {
      "text/plain": [
       "(10.0, 10.0, 8.9, 9.8, 8.65)"
      ]
     },
     "execution_count": 6,
     "metadata": {},
     "output_type": "execute_result"
    }
   ],
   "source": [
    "Delta_U_R1=U_GB-U_VD1\n",
    "Delta_U_R2=U_GB-U_VD2\n",
    "Delta_U_R3=U_GB-U_VD3\n",
    "Delta_U_R4=U_GB-U_VD4\n",
    "Delta_U_R5=U_GB-U_VD5\n",
    "Delta_U_R1,Delta_U_R2,Delta_U_R3,Delta_U_R4,Delta_U_R5"
   ]
  },
  {
   "cell_type": "markdown",
   "id": "71a860ea-a4fc-4366-bd82-c05bf5d1f8b5",
   "metadata": {},
   "source": [
    "Найдем значения сопротивление:\n",
    "- $R=\\frac{U}{I}$\n",
    "- $R1=\\frac{\\Delta U_{R1}}{I_VD}=10/0.03\\approx 333.33\\Omega$\n",
    "- $R2=\\frac{\\Delta U_{R2}}{I_VD}=10/0.03\\approx 333.33\\Omega$\n",
    "- $R3=\\frac{\\Delta U_{R3}}{I_VD}=8.9/0.03\\approx 296.67\\Omega$\n",
    "- $R4=\\frac{\\Delta U_{R4}}{I_VD}=9.8/0.03\\approx 326.67\\Omega$\n",
    "- $R5=\\frac{\\Delta U_{R5}}{I_VD}=8.65/0.03\\approx 288.33\\Omega$"
   ]
  },
  {
   "cell_type": "code",
   "execution_count": 9,
   "id": "e14426d3-6115-40ef-9c1f-ec0bcf1890e8",
   "metadata": {},
   "outputs": [
    {
     "data": {
      "text/plain": [
       "(333.33333333333337,\n",
       " 333.33333333333337,\n",
       " 296.6666666666667,\n",
       " 326.6666666666667,\n",
       " 288.33333333333337)"
      ]
     },
     "execution_count": 9,
     "metadata": {},
     "output_type": "execute_result"
    }
   ],
   "source": [
    "R1=Delta_U_R1/I_VD\n",
    "R2=Delta_U_R2/I_VD\n",
    "R3=Delta_U_R3/I_VD\n",
    "R4=Delta_U_R4/I_VD\n",
    "R5=Delta_U_R5/I_VD\n",
    "R1,R2,R3,R4,R5"
   ]
  },
  {
   "cell_type": "markdown",
   "id": "dc597675-b63b-43ee-99d4-7cc7b768d313",
   "metadata": {},
   "source": [
    "Из стандартного \n",
    "ряда сопротивлений\r\n",
    "выбираем номина \r\n",
    "резист (ближайшее в \n",
    "сторону увеличения):\n",
    "- $R1360\\Omega$=\n",
    "- $R2360\\Omega$=\n",
    "- $R3300\\Omega$=\n",
    "- $R4330\\Omega$=\n",
    "- $R5300\\Omega$="
   ]
  },
  {
   "cell_type": "markdown",
   "id": "55d7a2e6-8fc6-40c0-bf0c-2eb37b430f72",
   "metadata": {},
   "source": [
    "Расчет мощности рассеивания резисторов:\n",
    "- $P=I^2R$\n",
    "- $P_{R}=I_{VD}^2\\times R$\n",
    "- $P_{R1}=I_{VD}^2\\times R \\approx 0.5W$\n",
    "- $P_{R2}=I_{VD}^2\\times R \\approx 0.5W$\n",
    "- $P_{R3}=I_{VD}^2\\times R \\approx 0.5W$\n",
    "- $P_{R4}=I_{VD}^2\\times R \\approx 0.5W$\n",
    "- $P_{R5}=I_{VD}^2\\times R \\approx 0.5W$"
   ]
  },
  {
   "cell_type": "code",
   "execution_count": 11,
   "id": "1adacfc5-af52-4680-8733-6877a1e034d9",
   "metadata": {},
   "outputs": [
    {
     "data": {
      "text/plain": [
       "(0.30000000000000004, 0.30000000000000004, 0.267, 0.294, 0.2595)"
      ]
     },
     "execution_count": 11,
     "metadata": {},
     "output_type": "execute_result"
    }
   ],
   "source": [
    "P_R1=I_VD**2*R1\n",
    "P_R2=I_VD**2*R2\n",
    "P_R3=I_VD**2*R3\n",
    "P_R4=I_VD**2*R4\n",
    "P_R5=I_VD**2*R5\n",
    "P_R1,P_R2,P_R3,P_R4,P_R5"
   ]
  }
 ],
 "metadata": {
  "kernelspec": {
   "display_name": "Python 3 (ipykernel)",
   "language": "python",
   "name": "python3"
  },
  "language_info": {
   "codemirror_mode": {
    "name": "ipython",
    "version": 3
   },
   "file_extension": ".py",
   "mimetype": "text/x-python",
   "name": "python",
   "nbconvert_exporter": "python",
   "pygments_lexer": "ipython3",
   "version": "3.10.11"
  }
 },
 "nbformat": 4,
 "nbformat_minor": 5
}
