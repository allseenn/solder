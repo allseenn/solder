{
 "cells": [
  {
   "cell_type": "markdown",
   "id": "5414a4e4-83ca-4c4c-a8cb-db8940ed8b84",
   "metadata": {},
   "source": [
    "# Практическая работа №1\n",
    "\n",
    "## Определение расхода припоя при пайке печатных плат\n",
    "\n",
    "### Объем усеченного конуса\n",
    "\n",
    "$V_{конус}=\\frac{1}{3}\\pi H(R_1^2+R_2^2+R_1\\cdot R_2)$\n",
    "\n",
    "### Объем цилиндра\n",
    "\n",
    "$V_{цилиндр}=\\pi r^2H$\n",
    "\n",
    "### Вес припоя на одну точку\n",
    "\n",
    "$w = V_{конус} * \\rho$\n",
    "\n",
    "### Общий вес припоя на плату\n",
    "$ W = q\\cdot w$\n",
    "- $W$ - вес припоя\n",
    "- $q$ - количество точек пойки\n",
    "- $w$ - вес припоя для одной точки\n",
    "\n",
    "$W_{30\\%} = W+0.3W$\n",
    "\n",
    "### Количество - масса припоя в 1мм стержня\n",
    "\n",
    "$Q=\\frac{\\pi d^2}{4}\\cdot \\rho$\n",
    "\n",
    "- $d$ - диаметри прутка припоя (мм)\n",
    "- $Q$ - количество (грамм) припоя на 1мм при заданном d диаметре\n",
    "- $\\rho$ - плотность припоя ($г/мм^3$)\n",
    "\n",
    "### Общая длина прутка припоя\n",
    "$L = W_{30\\%} / Q$ \n",
    "\n",
    "  \n",
    "## Дано\n",
    "- $P=25$ - количество плат (шт)\n",
    "- $q=352$ - количество точек пайки на одну плату (шт)\n",
    "- $d=1.2$ = диаметр прутка приаоя (мм)\n",
    "- $\\rho = 0.85$ - плотность припоя ($г/мм^3$)\n",
    "- $R_1 = 0,6$ - радиус вершины конуса (мм)\n",
    "- $R_2 = 3$ - радиус основания конуса (мм)\n",
    "- $H = 1.3$ - высота конуса (мм)\n",
    "\n",
    "## Найти\n",
    "- V - обьем усеченного конуса\n",
    "- w - вес одной точки пайки\n",
    "- W - общий вес на плату\n",
    "- W30 - вес с запасом\n",
    "- L длина прутка припоя\n"
   ]
  },
  {
   "cell_type": "code",
   "execution_count": 55,
   "id": "dafb2177-a810-426f-995b-73c4da635a42",
   "metadata": {},
   "outputs": [
    {
     "data": {
      "text/plain": [
       "(3.79818551819006, 1.1309733552923256, 0.3675663404700058)"
      ]
     },
     "execution_count": 55,
     "metadata": {},
     "output_type": "execute_result"
    }
   ],
   "source": [
    "import math\n",
    "P=25\n",
    "q = 352\n",
    "d = 1.2\n",
    "rho = 0.0085\n",
    "R1 = 0.6/2\n",
    "R2 = 3/2\n",
    "H = 1.3\n",
    "Vd = math.pi*(d/2)**2\n",
    "VR1 = math.pi*(R1)**2*1.3\n",
    "V=1/3*math.pi*H*(R1**2+R2**2+R1*R2)\n",
    "V, Vd, VR1"
   ]
  },
  {
   "cell_type": "code",
   "execution_count": 22,
   "id": "8bc57126-0bdf-4b8c-a29a-f1b89f4258b4",
   "metadata": {},
   "outputs": [
    {
     "data": {
      "text/plain": [
       "0.03228457690461551"
      ]
     },
     "execution_count": 22,
     "metadata": {},
     "output_type": "execute_result"
    }
   ],
   "source": [
    "w = V * rho\n",
    "w"
   ]
  },
  {
   "cell_type": "code",
   "execution_count": 23,
   "id": "47187dcd-874e-4605-8000-42c5ca994fdf",
   "metadata": {},
   "outputs": [
    {
     "data": {
      "text/plain": [
       "11.364171070424659"
      ]
     },
     "execution_count": 23,
     "metadata": {},
     "output_type": "execute_result"
    }
   ],
   "source": [
    "W = w * q\n",
    "W"
   ]
  },
  {
   "cell_type": "code",
   "execution_count": 24,
   "id": "36226466-c32f-4aa6-b3b8-e761b70bbe6b",
   "metadata": {},
   "outputs": [
    {
     "data": {
      "text/plain": [
       "14.773422391552057"
      ]
     },
     "execution_count": 24,
     "metadata": {},
     "output_type": "execute_result"
    }
   ],
   "source": [
    "W30 = W + (0.3*W)\n",
    "W30"
   ]
  },
  {
   "cell_type": "code",
   "execution_count": 53,
   "id": "2a4217ad-a9aa-4a7a-9b85-61fcff2b6b18",
   "metadata": {},
   "outputs": [
    {
     "data": {
      "text/plain": [
       "0.009613273519984767"
      ]
     },
     "execution_count": 53,
     "metadata": {},
     "output_type": "execute_result"
    }
   ],
   "source": [
    "Q=((math.pi*(d)**2)/4)*0.0085\n",
    "Q"
   ]
  },
  {
   "cell_type": "code",
   "execution_count": 54,
   "id": "53859c59-7b46-4f5d-aa87-4e9a8604bca9",
   "metadata": {},
   "outputs": [
    {
     "data": {
      "text/plain": [
       "1536.7733333333333"
      ]
     },
     "execution_count": 54,
     "metadata": {},
     "output_type": "execute_result"
    }
   ],
   "source": [
    "L=W30/Q\n",
    "L"
   ]
  },
  {
   "cell_type": "code",
   "execution_count": 41,
   "id": "b1e636db-ad94-491c-95e1-7100bdb69fbe",
   "metadata": {},
   "outputs": [
    {
     "data": {
      "text/plain": [
       "0.009613273519984767"
      ]
     },
     "execution_count": 41,
     "metadata": {},
     "output_type": "execute_result"
    }
   ],
   "source": [
    "wd = Vd*rho\n",
    "wd"
   ]
  },
  {
   "cell_type": "code",
   "execution_count": 56,
   "id": "e7c8b09a-e721-4e56-8024-5f96c1439919",
   "metadata": {},
   "outputs": [
    {
     "data": {
      "text/plain": [
       "3.430619177720054"
      ]
     },
     "execution_count": 56,
     "metadata": {},
     "output_type": "execute_result"
    }
   ],
   "source": [
    "V_hole = V - VR1\n",
    "V_hole"
   ]
  },
  {
   "cell_type": "code",
   "execution_count": 58,
   "id": "41d0d2a0-7b57-4ed9-b29d-5a7ee1f05399",
   "metadata": {},
   "outputs": [
    {
     "data": {
      "text/plain": [
       "0.02916026301062046"
      ]
     },
     "execution_count": 58,
     "metadata": {},
     "output_type": "execute_result"
    }
   ],
   "source": [
    "w_hole = V_hole * rho\n",
    "w_hole"
   ]
  },
  {
   "cell_type": "code",
   "execution_count": 59,
   "id": "21d4aba1-e88c-4fae-be20-137580311093",
   "metadata": {},
   "outputs": [
    {
     "data": {
      "text/plain": [
       "10.264412579738403"
      ]
     },
     "execution_count": 59,
     "metadata": {},
     "output_type": "execute_result"
    }
   ],
   "source": [
    "W_hole = w_hole * q\n",
    "W_hole"
   ]
  },
  {
   "cell_type": "code",
   "execution_count": 60,
   "id": "e2a1de32-6b2b-4dfe-8433-f178fc0f21b1",
   "metadata": {},
   "outputs": [
    {
     "data": {
      "text/plain": [
       "1067.7333333333333"
      ]
     },
     "execution_count": 60,
     "metadata": {},
     "output_type": "execute_result"
    }
   ],
   "source": [
    "L_hole = W_hole / wd\n",
    "L_hole"
   ]
  },
  {
   "cell_type": "code",
   "execution_count": 49,
   "id": "e000b0e0-7730-4fb8-ad9a-8bbb51cd4fc1",
   "metadata": {},
   "outputs": [
    {
     "data": {
      "text/plain": [
       "27353.333333333336"
      ]
     },
     "execution_count": 49,
     "metadata": {},
     "output_type": "execute_result"
    }
   ],
   "source": [
    "L25 = L_hole * P\n",
    "L25"
   ]
  }
 ],
 "metadata": {
  "kernelspec": {
   "display_name": "Python 3 (ipykernel)",
   "language": "python",
   "name": "python3"
  },
  "language_info": {
   "codemirror_mode": {
    "name": "ipython",
    "version": 3
   },
   "file_extension": ".py",
   "mimetype": "text/x-python",
   "name": "python",
   "nbconvert_exporter": "python",
   "pygments_lexer": "ipython3",
   "version": "3.10.11"
  }
 },
 "nbformat": 4,
 "nbformat_minor": 5
}
