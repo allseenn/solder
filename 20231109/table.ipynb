{
  "cells": [
    {
      "cell_type": "code",
      "execution_count": 56,
      "metadata": {
        "cellView": "form",
        "id": "34UDzaKPHT4v"
      },
      "outputs": [],
      "source": [
        "# @title Расчёт транзисторного каскада с ОЭ\n",
        "import math\n",
        "U_ip = 10  # Питающее напряжение, В\n",
        "P_max = 350\n",
        "f = 1000 # частота каскада Гц\n",
        "I_max = 150  # Максимальный ток коллектора без сигнала, мА\n",
        "h21 = 100  # Коэффициент усиления транзистора\n",
        "U_be = 0.66  # Напряжение база-эмиттер, В"
      ],
      "id": "34UDzaKPHT4v"
    },
    {
      "cell_type": "markdown",
      "source": [
        "- Марка транзистора = КТ503E\n",
        "- частота работы каскада $f = 1000 Гц$\n",
        "- Структура транзистора = Кремний n-p-n\n",
        "- Питающее напряжение $U_{и.п.} = 10В$\n",
        "- $P_{max} = 350(мВт)$\n",
        "- $I_{max} = 150 (мА)$\n",
        "- $h_{21} = 100$\n",
        "- Сопротивление коллектора $R_{к} = 10\\times R_э$\n",
        "- Напряжение база-эмиттер $U_{бэ} = 0,66В$"
      ],
      "metadata": {
        "id": "imi_RbuBP4LA"
      },
      "id": "imi_RbuBP4LA"
    },
    {
      "cell_type": "code",
      "execution_count": 38,
      "metadata": {
        "colab": {
          "base_uri": "https://localhost:8080/"
        },
        "cellView": "form",
        "id": "TPcIYVC3HT4y",
        "outputId": "db43088e-e9ed-4545-ce8c-8e5464d4b985"
      },
      "outputs": [
        {
          "output_type": "execute_result",
          "data": {
            "text/plain": [
              "280.0"
            ]
          },
          "metadata": {},
          "execution_count": 38
        }
      ],
      "source": [
        "# @title 1. Определим максимальную статическую мощность\n",
        "P_pac_max = 0.8 * P_max\n",
        "P_pac_max"
      ],
      "id": "TPcIYVC3HT4y"
    },
    {
      "cell_type": "markdown",
      "source": [
        "$P_{\\text{pac.max}} = 0.8 \\times P_{\\text{max}} = 0.8 \\times 350 \\, \\text{мВт} = 280 \\, \\text{мВт}$"
      ],
      "metadata": {
        "id": "m-CyCqBqPyph"
      },
      "id": "m-CyCqBqPyph"
    },
    {
      "cell_type": "code",
      "execution_count": 39,
      "metadata": {
        "colab": {
          "base_uri": "https://localhost:8080/"
        },
        "cellView": "form",
        "id": "eHONByz7HT4y",
        "outputId": "102c4297-2125-4709-8f69-b28947278c02"
      },
      "outputs": [
        {
          "output_type": "execute_result",
          "data": {
            "text/plain": [
              "56.0"
            ]
          },
          "metadata": {},
          "execution_count": 39
        }
      ],
      "source": [
        "# @title 2. Определим ток коллектора в статическом режиме (без сигнала):\n",
        "I_k0 = P_pac_max / (U_ip / 2)\n",
        "I_k0"
      ],
      "id": "eHONByz7HT4y"
    },
    {
      "cell_type": "markdown",
      "source": [
        "$I_{\\text{к0}} = \\frac{280 мВт}{\\frac{10 В}{2}} \\approx 56 \\, \\text{мА}$"
      ],
      "metadata": {
        "id": "dyZ3uLWOSTdL"
      },
      "id": "dyZ3uLWOSTdL"
    },
    {
      "cell_type": "code",
      "source": [
        "# @title 3. Учитывая, что на транзисторе в статическом режиме (без сигнала) падает половина напряжения питания, вторая половина напряжения питания будет падать на резисторах:\n",
        "R_ke = (U_ip / 2)/(I_k0/1000)\n",
        "R_k=80\n",
        "R_e = 9\n",
        "R_ke"
      ],
      "metadata": {
        "colab": {
          "base_uri": "https://localhost:8080/"
        },
        "cellView": "form",
        "id": "6XWtlZMHTzsg",
        "outputId": "826b35de-24b1-4ab9-e6af-bd4ba7c3304c"
      },
      "id": "6XWtlZMHTzsg",
      "execution_count": 40,
      "outputs": [
        {
          "output_type": "execute_result",
          "data": {
            "text/plain": [
              "89.28571428571428"
            ]
          },
          "metadata": {},
          "execution_count": 40
        }
      ]
    },
    {
      "cell_type": "markdown",
      "source": [
        "$(R_к+R_э)=\\frac{(\\frac{U_{и.п.}}{2})}{I_{к0}} = (10/2)/56mA = 5B/0,056A \\approx 89 \\Omega$\n",
        "\n",
        "$R_к = 80\\Omega$\n",
        "\n",
        "$R_э = 9\\Omega$"
      ],
      "metadata": {
        "id": "H7BDevcZVOO5"
      },
      "id": "H7BDevcZVOO5"
    },
    {
      "cell_type": "code",
      "source": [
        "# @title 4. Найдем напряжение на коллекторе транзистора без сигнала\n",
        "U_k0 = (U_ip - I_k0/1000 * R_k)\n",
        "U_k0"
      ],
      "metadata": {
        "colab": {
          "base_uri": "https://localhost:8080/"
        },
        "cellView": "form",
        "id": "9P69UFgcXlFI",
        "outputId": "df3dcbfa-b9a7-4a99-ab60-7791bbf10ed9"
      },
      "id": "9P69UFgcXlFI",
      "execution_count": 41,
      "outputs": [
        {
          "output_type": "execute_result",
          "data": {
            "text/plain": [
              "5.52"
            ]
          },
          "metadata": {},
          "execution_count": 41
        }
      ]
    },
    {
      "cell_type": "markdown",
      "source": [
        "$U_{к0}=(U_{кэ0}+I_{к0}\\times R_э) = (U_{и.п.}-I_{к0}\\times R_к) = 10В-0,056А\\cdot 80\\Omega \\approx 5.52В$"
      ],
      "metadata": {
        "id": "L0Uq53b4X03h"
      },
      "id": "L0Uq53b4X03h"
    },
    {
      "cell_type": "code",
      "source": [
        "# @title 5. Определим ток базы управления транзистором:\n",
        "I_b = (U_ip/(R_k+R_e))/h21*1000\n",
        "I_b"
      ],
      "metadata": {
        "colab": {
          "base_uri": "https://localhost:8080/"
        },
        "cellView": "form",
        "id": "zuSRRf5WZJWD",
        "outputId": "965ad5b7-fd23-45bb-e506-c19c124f1b3e"
      },
      "id": "zuSRRf5WZJWD",
      "execution_count": 42,
      "outputs": [
        {
          "output_type": "execute_result",
          "data": {
            "text/plain": [
              "1.1235955056179774"
            ]
          },
          "metadata": {},
          "execution_count": 42
        }
      ]
    },
    {
      "cell_type": "markdown",
      "source": [
        "$I_б = \\frac{I_к}{h_{21}}=\\frac{[\\frac{U_{и.п.}}{R_к+R_э}]}{h_{21}}=[10/89]/100 \\approx 1.123мA$"
      ],
      "metadata": {
        "id": "QLqqE-neZNm-"
      },
      "id": "QLqqE-neZNm-"
    },
    {
      "cell_type": "code",
      "source": [
        "# @title 6. Полный базовый ток определяется напряжением смещения на базе, которое задается делителем напряжения Rб1,Rб2. Выбираем ток делителя в 10 раз большим тока управления базы:\n",
        "I_del = 10*I_b\n",
        "I_del"
      ],
      "metadata": {
        "colab": {
          "base_uri": "https://localhost:8080/"
        },
        "cellView": "form",
        "id": "VUxqDKWTbVXy",
        "outputId": "5ceb8808-6093-4bb0-c179-e625bb0a7a84"
      },
      "id": "VUxqDKWTbVXy",
      "execution_count": 43,
      "outputs": [
        {
          "output_type": "execute_result",
          "data": {
            "text/plain": [
              "11.235955056179774"
            ]
          },
          "metadata": {},
          "execution_count": 43
        }
      ]
    },
    {
      "cell_type": "markdown",
      "source": [
        "$R_{б1},R{б2}:I_{дел.}=10*I_б \\approx 11.23мА$"
      ],
      "metadata": {
        "id": "X6myAl4dbw5r"
      },
      "id": "X6myAl4dbw5r"
    },
    {
      "cell_type": "code",
      "source": [
        "# @title Тогда полное сопротивление резисторов\n",
        "R_b1_b2 = U_ip/(I_del/1000)\n",
        "R_b1_b2"
      ],
      "metadata": {
        "colab": {
          "base_uri": "https://localhost:8080/"
        },
        "cellView": "form",
        "id": "K8uoJmn0cGys",
        "outputId": "5b2d1e04-4a85-49f2-ed40-59f72638b946"
      },
      "id": "K8uoJmn0cGys",
      "execution_count": 44,
      "outputs": [
        {
          "output_type": "execute_result",
          "data": {
            "text/plain": [
              "890.0"
            ]
          },
          "metadata": {},
          "execution_count": 44
        }
      ]
    },
    {
      "cell_type": "markdown",
      "source": [
        "$R_{б1}+R{б2}=\\frac{U_{и.п.}}{I_{дел.}}=10/0.01123A \\approx 890 \\Omega$"
      ],
      "metadata": {
        "id": "CFuXhuNDc3x5"
      },
      "id": "CFuXhuNDc3x5"
    },
    {
      "cell_type": "code",
      "source": [
        "# @title 7. Найдѐм напряжение на эмиттере в режиме покоя\n",
        "U_e = I_k0/1000 * R_e\n",
        "U_e"
      ],
      "metadata": {
        "colab": {
          "base_uri": "https://localhost:8080/"
        },
        "cellView": "form",
        "id": "IQzVEQuvdcIu",
        "outputId": "4582dbb2-a496-4fb7-caae-a55b3a36a78b"
      },
      "id": "IQzVEQuvdcIu",
      "execution_count": 48,
      "outputs": [
        {
          "output_type": "execute_result",
          "data": {
            "text/plain": [
              "0.504"
            ]
          },
          "metadata": {},
          "execution_count": 48
        }
      ]
    },
    {
      "cell_type": "markdown",
      "source": [
        "$U_э=I_{к0}\\times R_э = 0,056A * 9\\Omega \\approx 0,504В$"
      ],
      "metadata": {
        "id": "Faz6N7XgdjMb"
      },
      "id": "Faz6N7XgdjMb"
    },
    {
      "cell_type": "code",
      "source": [
        "# @title 8. Определяем напряжение на базе\n",
        "U_b = U_e + U_be\n",
        "U_b"
      ],
      "metadata": {
        "colab": {
          "base_uri": "https://localhost:8080/"
        },
        "cellView": "form",
        "id": "tIh1rRqjfESk",
        "outputId": "53a1da6a-aa35-4dce-8cbd-8ce7badd70ee"
      },
      "id": "tIh1rRqjfESk",
      "execution_count": 50,
      "outputs": [
        {
          "output_type": "execute_result",
          "data": {
            "text/plain": [
              "1.1640000000000001"
            ]
          },
          "metadata": {},
          "execution_count": 50
        }
      ]
    },
    {
      "cell_type": "markdown",
      "source": [
        "$U_б = U_э + U_{бэ} = 0,504B+0,66B=1,164B$"
      ],
      "metadata": {
        "id": "PZ2vIkOlfopU"
      },
      "id": "PZ2vIkOlfopU"
    },
    {
      "cell_type": "code",
      "source": [
        "# @title Отсюда, через формулу делителя напряжения находим:\n",
        "R_b2 = R_b1_b2*U_b/U_ip\n",
        "R_b1 = R_b1_b2-R_b2\n",
        "R_b1, R_b2"
      ],
      "metadata": {
        "colab": {
          "base_uri": "https://localhost:8080/"
        },
        "cellView": "form",
        "id": "BabexciJf7d4",
        "outputId": "0ed26382-177c-4fde-b05a-79ebb57336d0"
      },
      "id": "BabexciJf7d4",
      "execution_count": 54,
      "outputs": [
        {
          "output_type": "execute_result",
          "data": {
            "text/plain": [
              "(786.404, 103.596)"
            ]
          },
          "metadata": {},
          "execution_count": 54
        }
      ]
    },
    {
      "cell_type": "markdown",
      "source": [
        "$R_{б2}=(R_{б1}+R{б2})\\times \\frac{U_б}{U_{и.п.}} = 890\\Omega * 1,164B/10B \\approx 103.596 \\Omega$\n",
        "\n",
        "$R_{б1}=(R_{б1}+R{б2})-R_{б2} = 890\\Omega - 103,596\\Omega \\approx 789.404\\Omega$\n",
        "\n",
        "В соответсвии с резисторным рядом округляем до ближайшего значения показания резисторов:\n",
        "- $R_{б2} = 100 \\Omega$\n",
        "- $R_{б1} = 750 \\Omega$\n"
      ],
      "metadata": {
        "id": "2qnU9l0NgTz9"
      },
      "id": "2qnU9l0NgTz9"
    },
    {
      "cell_type": "code",
      "execution_count": 61,
      "metadata": {
        "colab": {
          "base_uri": "https://localhost:8080/"
        },
        "id": "OZJVx7n7HT4z",
        "outputId": "70b4aae9-1443-40b6-bdc0-d99f4310da09"
      },
      "outputs": [
        {
          "output_type": "execute_result",
          "data": {
            "text/plain": [
              "15.363039411936306"
            ]
          },
          "metadata": {},
          "execution_count": 61
        }
      ],
      "source": [
        "# @title 9. Разделительные конденсаторы\n",
        "X_sr = 0.1 * R_b2\n",
        "X_sr\n",
        "X=(1/X_sr)/(2*math.pi*f)*1000000\n",
        "X"
      ],
      "id": "OZJVx7n7HT4z"
    },
    {
      "cell_type": "markdown",
      "source": [
        "$X_{cp} = 0.1 \\times R_{б2} = 10\\Omega$\n",
        "\n",
        "$X_{ср} = \\frac{1}{2\\pi f C_p} = 10\\Omega$\n",
        "\n",
        "$X = \\frac{\\frac{1}{10}}{6280}\\approx 15 \\mu$"
      ],
      "metadata": {
        "id": "Rlyk3v7fjeU2"
      },
      "id": "Rlyk3v7fjeU2"
    }
  ],
  "metadata": {
    "kernelspec": {
      "display_name": "Python 3",
      "language": "python",
      "name": "python3"
    },
    "language_info": {
      "codemirror_mode": {
        "name": "ipython",
        "version": 3
      },
      "file_extension": ".py",
      "mimetype": "text/x-python",
      "name": "python",
      "nbconvert_exporter": "python",
      "pygments_lexer": "ipython3",
      "version": "3.10.11"
    },
    "colab": {
      "provenance": []
    }
  },
  "nbformat": 4,
  "nbformat_minor": 5
}