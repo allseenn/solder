{
 "cells": [
  {
   "cell_type": "markdown",
   "id": "db8ce50a-9694-4eef-bbd7-8cea8be42b55",
   "metadata": {},
   "source": [
    "# Расчет длины провода для \n",
    "изготовления жгут\n",
    "\n",
    "### Формула расчета длины провода при повороте в пределах $70\\degree -90\\degree$\n",
    "а$L=\\frac{2\\cdot \\pi \\cdot 2D}{4}$\n",
    "- $L$ - длина провода на изгиб\n",
    "- $D$ - диаметр по изоляции\n",
    "- $2\\cdot D$ - для первого к изгибу провода\n",
    "- $3\\cdot D$ - для второго к изгибу провода\n",
    "- $4\\cdot D$ - для третьего к изгибу провода\n",
    "- $5\\cdot D$ - для четвертого к изгибу провода\n",
    "- $6\\cdot D$ - для пятого к изгибу провода\n",
    "- $7\\cdot D$ - для шестого к изгибу провода\n",
    "- $8\\cdot D$ - для седьмого к изгибу провода\n",
    "\n",
    "### Формула расчета длины провода при повороте в пределах $\\geq 100\\degree$\n",
    "\n",
    "$L=\\frac{2\\cdot \\pi \\cdot 2D}{8}$\n",
    "- $L$ - длина провода на изгиб\n",
    "- $D$ - диаметр по изоляции\n",
    "- $2\\cdot D$ - для первого к изгибу провода\n",
    "- $3\\cdot D$ - для второго к изгибу провода\n",
    "- $4\\cdot D$ - для третьего к изгибу провода\n",
    "- $5\\cdot D$ - для четвертого к изгибу провода\n",
    "- $6\\cdot D$ - для пятого к изгибу провода\n",
    "- $7\\cdot D$ - для шестого к изгибу провода\n",
    "- $8\\cdot D$ - для седьмого к изгибу провода\n",
    "\n",
    "### Дано\n",
    "\n",
    " - Провод марки БПВЛ1.0 с диаметром по изоляции 3мм\n",
    "\r\n"
   ]
  },
  {
   "cell_type": "code",
   "execution_count": 5,
   "id": "9c7de87e-80f8-4d81-bf04-ff7652f39977",
   "metadata": {},
   "outputs": [
    {
     "data": {
      "text/plain": [
       "(282.98672286269283,\n",
       " 262.98672286269283,\n",
       " 184.13716694115408,\n",
       " 204.13716694115408,\n",
       " 934.2477796076938,\n",
       " 962.2752129959247,\n",
       " 28.027433388230815)"
      ]
     },
     "execution_count": 5,
     "metadata": {},
     "output_type": "execute_result"
    }
   ],
   "source": [
    "import math\n",
    "D=3\n",
    "L1=15+80+(2*math.pi*2*D)/4+80+(2*math.pi*3*D)/4+40+(2*math.pi*2*D)/4+20+15\n",
    "L2=15+80+(2*math.pi*3*D)/4+80+(2*math.pi*2*D)/4+20+(2*math.pi*2*D)/4+20+15\n",
    "\n",
    "L3=15+80+(2*math.pi*3*D)/4+60+15\n",
    "L4=15+80+(2*math.pi*2*D)/4+30+(2*math.pi*2*D)/8+50+15\n",
    "L=L1+L2+L3+L4\n",
    "L_all = L*0.03+L\n",
    "L1, L2, L3, L4, L, L_all, L*0.03"
   ]
  },
  {
   "cell_type": "code",
   "execution_count": null,
   "id": "1215aa23-4c98-481c-a82d-03356ca2c986",
   "metadata": {},
   "outputs": [],
   "source": []
  }
 ],
 "metadata": {
  "kernelspec": {
   "display_name": "Python 3 (ipykernel)",
   "language": "python",
   "name": "python3"
  },
  "language_info": {
   "codemirror_mode": {
    "name": "ipython",
    "version": 3
   },
   "file_extension": ".py",
   "mimetype": "text/x-python",
   "name": "python",
   "nbconvert_exporter": "python",
   "pygments_lexer": "ipython3",
   "version": "3.10.11"
  }
 },
 "nbformat": 4,
 "nbformat_minor": 5
}
