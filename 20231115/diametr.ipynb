{
 "cells": [
  {
   "cell_type": "markdown",
   "id": "caa6000f-b7ab-4f49-91ef-ca07a5e02a12",
   "metadata": {},
   "source": [
    "### Расчет диаметра жгута по формуле\n",
    "$D=(1.2-1.3)\\times \\sqrt{n} \\times D_{ср}$\n",
    "- $n$ - число проводов, шт.\n",
    "- $D_{ср}$ - среднее арифметическое провода в мм.\n",
    "- $1.2-1.3$ - коэффициент заполнения\n"
   ]
  },
  {
   "cell_type": "code",
   "execution_count": 3,
   "id": "668aad3d-5bc4-454d-83ca-1b911200ca21",
   "metadata": {},
   "outputs": [
    {
     "data": {
      "text/plain": [
       "(2.08125, 48)"
      ]
     },
     "execution_count": 3,
     "metadata": {},
     "output_type": "execute_result"
    }
   ],
   "source": [
    "import math\n",
    "n = 6+9+5+8+3+5+12\n",
    "D_mid = ((6*1.2)+(9*2.1)+(5*0.9)+(8*1.8)+(3*2.1)+(5*4.2)+(12*2.3))/n\n",
    "D_mid, n"
   ]
  },
  {
   "cell_type": "code",
   "execution_count": null,
   "id": "46e5e2ab-22c9-48f5-98fb-c56beaf7607a",
   "metadata": {},
   "outputs": [],
   "source": []
  },
  {
   "cell_type": "code",
   "execution_count": 2,
   "id": "29777d4f-d20c-4904-9626-fc8d45bb1b6c",
   "metadata": {},
   "outputs": [
    {
     "data": {
      "text/plain": [
       "18.74511986491417"
      ]
     },
     "execution_count": 2,
     "metadata": {},
     "output_type": "execute_result"
    }
   ],
   "source": [
    "D=1.3*math.sqrt(n)*D_mid\n",
    "D"
   ]
  },
  {
   "cell_type": "code",
   "execution_count": null,
   "id": "7b0f15f5-84b3-493b-9a1e-e6013a18be25",
   "metadata": {},
   "outputs": [],
   "source": []
  }
 ],
 "metadata": {
  "kernelspec": {
   "display_name": "Python 3 (ipykernel)",
   "language": "python",
   "name": "python3"
  },
  "language_info": {
   "codemirror_mode": {
    "name": "ipython",
    "version": 3
   },
   "file_extension": ".py",
   "mimetype": "text/x-python",
   "name": "python",
   "nbconvert_exporter": "python",
   "pygments_lexer": "ipython3",
   "version": "3.10.11"
  }
 },
 "nbformat": 4,
 "nbformat_minor": 5
}
